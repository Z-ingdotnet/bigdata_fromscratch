{
 "cells": [
  {
   "cell_type": "code",
   "execution_count": null,
   "metadata": {},
   "outputs": [],
   "source": [
    "df = pd.DataFrame(np.random.randint(0,50,size=(5, 3)), columns=list('ABC'))\n",
    "sparkdf = customparksession.createDataFrame(df)\n",
    "sparkdf.show()\n",
    "sparkdf.write.saveAsTable('testdb.checkwrtietohive')\n",
    "df_load = customparksession.sql('SELECT * FROM testdb.checkwrtietohive')\n",
    "df_load.show()\n",
    "print(df_load.show())\n"
   ]
  }
 ],
 "metadata": {
  "kernelspec": {
   "display_name": "Python 3",
   "language": "python",
   "name": "python3"
  },
  "language_info": {
   "codemirror_mode": {
    "name": "ipython",
    "version": 3
   },
   "file_extension": ".py",
   "mimetype": "text/x-python",
   "name": "python",
   "nbconvert_exporter": "python",
   "pygments_lexer": "ipython3",
   "version": "3.8.5"
  }
 },
 "nbformat": 4,
 "nbformat_minor": 4
}
