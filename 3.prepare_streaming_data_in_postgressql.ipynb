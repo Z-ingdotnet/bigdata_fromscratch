{
 "cells": [
  {
   "cell_type": "code",
   "execution_count": 3,
   "metadata": {
    "scrolled": true
   },
   "outputs": [
    {
     "name": "stdout",
     "output_type": "stream",
     "text": [
      "ERROR:  database \"izstreaming\" already exists\r\n"
     ]
    }
   ],
   "source": [
    "import time\n",
    "import datetime\n",
    "import math\n",
    "\n",
    "!echo \"CREATE DATABASE izstreaming\" | psql --u postgres\n",
    "\n",
    "starttime ='2019-09-03 15:00:00'\n",
    "endtime ='2019-10-03 16:00:00'\n",
    "batch = 5\n",
    "\n",
    "starttimestamp = time.mktime(time.strptime(starttime, '%Y-%m-%d %H:%M:%S'))\n",
    "endtimestamp = time.mktime(time.strptime(endtime, '%Y-%m-%d %H:%M:%S'))"
   ]
  },
  {
   "cell_type": "code",
   "execution_count": 52,
   "metadata": {},
   "outputs": [
    {
     "name": "stdout",
     "output_type": "stream",
     "text": [
      "*******************1 th round:3432*******************\n",
      "2019-09-03 15:00:00~2019-09-03 15:20:00\n",
      "************************write data succeed!***************************\n",
      "*******************2 th round:3540*******************\n",
      "2019-09-03 15:20:00~2019-09-03 15:40:00\n",
      "************************write data succeed!***************************\n",
      "*******************3 th round:3419*******************\n",
      "2019-09-03 15:40:00~2019-09-03 16:00:00\n",
      "************************write data succeed!***************************\n"
     ]
    }
   ],
   "source": [
    "timegap = math.floor((endtimestamp-starttimestamp)/batch)\n",
    "i=timegap\n",
    "start=\"\"\n",
    "x=customparksession.sql(\"select customerid,transaction_complete_dtm,payment_type,total_amount,other_amount from testdb.ds_cc_transaction where transaction_complete_dtm>='{}' and transaction_complete_dtm<='{}'\".format(starttime,endtime))\n",
    "while i<=(endtimestamp-starttimestamp):\n",
    "    if start==\"\":start=starttime\n",
    "    else:start=end\n",
    "    datetime_struct = datetime.datetime.fromtimestamp(starttimestamp)\n",
    "    datetime_obj = (datetime_struct + datetime.timedelta(seconds=i))\n",
    "    end = datetime_obj.strftime('%Y-%m-%d %H:%M:%S')\n",
    "    data=x.where(\"transaction_complete_dtm>='%s' and transaction_complete_dtm<'%s'\" %(start,end)).coalesce(200)\n",
    "    rounds=int(i/timegap)\n",
    "    print(f\"*******************{rounds} th round:{data.count()}*******************\")\n",
    "    print (start+\"~\" +end)\n",
    "    \n",
    "    mode = \"overwrite\"\n",
    "    #mode = \"append\"\n",
    "    url = \"jdbc:postgresql://101.15.32.2:5432/izstreaming\"\n",
    "    properties = {\"user\": \"postgres\",\"password\": \"postgres\",\"driver\": \"org.postgresql.Driver\"}\n",
    "    x.write.jdbc(url=url, table=\"testiz\", mode=mode, properties=properties)\n",
    "    print(f\"************************write data succeed!***************************\")\n",
    "    i=i+timegap\n",
    "    time.sleep(5)"
   ]
  },
  {
   "cell_type": "code",
   "execution_count": 17,
   "metadata": {
    "scrolled": true
   },
   "outputs": [
    {
     "name": "stdout",
     "output_type": "stream",
     "text": [
      " customerid | transaction_complete_dtm | payment_type  | total_amount | other_amount \r\n",
      "----------+---------------------+-----------+------------+-------\r\n",
      " JE0E+z04 | 2019-09-03 15:21:05 | ALIPAY    |       1000 |  1000\r\n",
      " +H0$!$4z | 2019-09-03 15:28:02 | WECHAT |        500 |   500\r\n",
      " +zHbJzJJ | 2019-09-03 15:50:37 | ALIPAY    |       1000 |  1000\r\n",
      " 4+H!0+4! | 2019-09-03 15:11:00 | ALIPAY    |       1000 |  1000\r\n",
      " +Hb4EzJz | 2019-09-03 15:08:12 | WECHAT |        500 |   500\r\n",
      "(5 rows)\r\n",
      "\r\n"
     ]
    }
   ],
   "source": [
    "!echo \"select * from testiz limit 5\" | psql --u postgres izstreaming"
   ]
  }
 ],
 "metadata": {
  "kernelspec": {
   "display_name": "Python 3.8.5 64-bit ('ProgramData': virtualenv)",
   "name": "python385jvsc74a57bd0b3ba2566441a7c06988d0923437866b63cedc61552a5af99d1f4fb67d367b25f"
  },
  "language_info": {
   "codemirror_mode": {
    "name": "ipython",
    "version": 3
   },
   "file_extension": ".py",
   "mimetype": "text/x-python",
   "name": "python",
   "nbconvert_exporter": "python",
   "pygments_lexer": "ipython3",
   "version": "3.8.5"
  }
 },
 "nbformat": 4,
 "nbformat_minor": 4
}
