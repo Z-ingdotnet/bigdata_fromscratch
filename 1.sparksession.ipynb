{
 "cells": [
  {
   "cell_type": "code",
   "execution_count": 1,
   "metadata": {
    "scrolled": false
   },
   "outputs": [
    {
     "data": {
      "text/html": [
       "\n",
       "            <div>\n",
       "                <p><b>SparkSession - hive</b></p>\n",
       "                \n",
       "        <div>\n",
       "            <p><b>SparkContext</b></p>\n",
       "\n",
       "            <p><a href=\"http://ABRTMDDEVAPP02:4055\">Spark UI</a></p>\n",
       "\n",
       "            <dl>\n",
       "              <dt>Version</dt>\n",
       "                <dd><code>v2.4.5</code></dd>\n",
       "              <dt>Master</dt>\n",
       "                <dd><code>yarn</code></dd>\n",
       "              <dt>AppName</dt>\n",
       "                <dd><code>Iverson_custom_session</code></dd>\n",
       "            </dl>\n",
       "        </div>\n",
       "        \n",
       "            </div>\n",
       "        "
      ],
      "text/plain": [
       "<pyspark.sql.session.SparkSession at 0x7f46d4073790>"
      ]
     },
     "execution_count": 1,
     "metadata": {},
     "output_type": "execute_result"
    }
   ],
   "source": [
    "#import packages and start custom spark session\n",
    "\n",
    "import os\n",
    "import io\n",
    "import sys\n",
    "\n",
    "import gc\n",
    "import subprocess\n",
    "import logging\n",
    "import pyspark\n",
    "from pyspark.sql import functions as F\n",
    "#from pyspark_ext import *\n",
    "import numpy as np\n",
    "import pandas as pd\n",
    "from pyspark.sql.types import *\n",
    "#from pyspark.sql.types import StructType,StructField, StringType, IntegerType\n",
    "\n",
    "from pyspark.sql.types import ArrayType,IntegerType,MapType,LongType,StructType,FloatType,DateType,DoubleType,TimestampType,DecimalType,BooleanType,ByteType\n",
    "#,CalendarIntervalType,HiveStringType,ObjectType,NumericType,NullType,BinaryType\n",
    "\n",
    "from pyspark.sql.functions import pandas_udf, PandasUDFType\n",
    "\n",
    "from scipy.stats import norm\n",
    "from pyspark.sql import Row,SQLContext,HiveContext,SparkSession\n",
    "from pyspark.streaming import StreamingContext\n",
    "\n",
    "connect = KafkaConnect(host='10.18.34.2', port=8083, scheme='http')\n",
    "from kafka import KafkaConsumer\n",
    "import json\n",
    "import happybase\n",
    "\n",
    "BASE_DIR = os.getcwd()\n",
    "#STATIC_URL = '/iverson_init_folder/'\n",
    "#sys.path.insert(0, os.path.join(BASE_DIR))\n",
    "BASE_DIR=os.path.join(BASE_DIR, 'iverson_init_folder/')\n",
    "\n",
    "from iverson_init_folder import xyz\n",
    "\n",
    "customparksession = xyz.Custom().spark\n",
    "\n",
    "customparksession"
   ]
  }
 ],
 "metadata": {
  "kernelspec": {
   "display_name": "Python 3.8.5 64-bit ('ProgramData': virtualenv)",
   "name": "python385jvsc74a57bd0b3ba2566441a7c06988d0923437866b63cedc61552a5af99d1f4fb67d367b25f"
  },
  "language_info": {
   "codemirror_mode": {
    "name": "ipython",
    "version": 3
   },
   "file_extension": ".py",
   "mimetype": "text/x-python",
   "name": "python",
   "nbconvert_exporter": "python",
   "pygments_lexer": "ipython3",
   "version": "3.8.5"
  }
 },
 "nbformat": 4,
 "nbformat_minor": 4
}
